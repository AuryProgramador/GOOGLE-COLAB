{
  "nbformat": 4,
  "nbformat_minor": 0,
  "metadata": {
    "colab": {
      "provenance": [],
      "authorship_tag": "ABX9TyOHx37bYGA38MYbcO5m2Wrr",
      "include_colab_link": true
    },
    "kernelspec": {
      "name": "python3",
      "display_name": "Python 3"
    },
    "language_info": {
      "name": "python"
    }
  },
  "cells": [
    {
      "cell_type": "markdown",
      "metadata": {
        "id": "view-in-github",
        "colab_type": "text"
      },
      "source": [
        "<a href=\"https://colab.research.google.com/github/AuryProgramador/GOOGLE-COLAB/blob/main/LISTAS_DICIONARIOS_CONJUNTOS.ipynb\" target=\"_parent\"><img src=\"https://colab.research.google.com/assets/colab-badge.svg\" alt=\"Open In Colab\"/></a>"
      ]
    },
    {
      "cell_type": "markdown",
      "source": [
        "LISTAS (PY)"
      ],
      "metadata": {
        "id": "UoIGkSyLu9gK"
      }
    },
    {
      "cell_type": "code",
      "execution_count": 2,
      "metadata": {
        "colab": {
          "base_uri": "https://localhost:8080/"
        },
        "id": "wc-KWADFtC_c",
        "outputId": "afad371d-0b57-4382-c0d9-c96c73e63346"
      },
      "outputs": [
        {
          "output_type": "stream",
          "name": "stdout",
          "text": [
            "['Power bi', 'Excel', 'Figma']\n"
          ]
        }
      ],
      "source": [
        "minhas_habilidades = ['Power bi', 'Excel', 'Figma']\n",
        "print(minhas_habilidades)"
      ]
    },
    {
      "cell_type": "code",
      "source": [
        "segunda_habilidade = minhas_habilidades.pop(1)\n",
        "minhas_habilidades.insert(0, segunda_habilidade)\n",
        "print(segunda_habilidade)\n",
        "primeiro_filme = minhas_habilidades.pop(1)\n",
        "minhas_habilidades.insert(0, primeiro_filme)\n",
        "print(primeiro_filme)"
      ],
      "metadata": {
        "colab": {
          "base_uri": "https://localhost:8080/"
        },
        "id": "ln6W6G08v9hs",
        "outputId": "c38ee06b-713f-4326-eba6-2fe635266638"
      },
      "execution_count": 9,
      "outputs": [
        {
          "output_type": "stream",
          "name": "stdout",
          "text": [
            "Figma\n",
            "Power bi\n"
          ]
        }
      ]
    },
    {
      "cell_type": "markdown",
      "source": [
        "CONJUNTOS (PY)"
      ],
      "metadata": {
        "id": "kdWt-imVz2Gk"
      }
    },
    {
      "cell_type": "code",
      "source": [
        "habilidades = ['Power bi', 'Figma', 'Figma', 'Excel']\n",
        "habilidades.append('Python')\n",
        "habilidades.append('PhotoShop')\n",
        "habilidades.append('WordPress')\n",
        "print(habilidades)"
      ],
      "metadata": {
        "colab": {
          "base_uri": "https://localhost:8080/"
        },
        "id": "FHFqbG1w0Quj",
        "outputId": "731ac857-85c0-4c07-ffc5-77cb8351fa34"
      },
      "execution_count": 14,
      "outputs": [
        {
          "output_type": "stream",
          "name": "stdout",
          "text": [
            "['Power bi', 'Figma', 'Figma', 'Excel', 'Python', 'PhotoShop', 'WordPress']\n"
          ]
        }
      ]
    },
    {
      "cell_type": "code",
      "source": [
        "habilidades = {'Power bi', 'Figma', 'Figma', 'Excel'}\n",
        "print(habilidades)\n",
        "print(type(habilidades))"
      ],
      "metadata": {
        "colab": {
          "base_uri": "https://localhost:8080/"
        },
        "id": "sBOcJp_f2EcV",
        "outputId": "ea2d6926-a341-4f10-b996-f8c0b77d7e63"
      },
      "execution_count": 15,
      "outputs": [
        {
          "output_type": "stream",
          "name": "stdout",
          "text": [
            "{'Power bi', 'Excel', 'Figma'}\n",
            "<class 'set'>\n"
          ]
        }
      ]
    },
    {
      "cell_type": "markdown",
      "source": [
        "DICIONARIO (PY)"
      ],
      "metadata": {
        "id": "gePMiRhy3BHr"
      }
    },
    {
      "cell_type": "code",
      "source": [
        "habilidades = ['Power bi', 'Excel' 'Figma']\n",
        "\n",
        "habilidades = {\n",
        "    'habilidades': {\n",
        "        'habilidades': 'Power Bi', \n",
        "        'Empresa_fabricante': 'Microsoft',\n",
        "        'Para que serve': {'Criar Deshboards'\n",
        "            \n",
        "            },\n",
        "        }\n",
        "    }\n",
        "\n",
        "\n",
        "print(habilidades)\n",
        "#___________________________________________________________________________________________\n",
        "\n",
        "habilidades = ['Power bi', 'Excel' 'Figma']\n",
        "\n",
        "habilidades = {\n",
        "    'habilidades': {\n",
        "        'habilidades': 'Excel', \n",
        "        'Empresa_fabricante': 'Microsoft',\n",
        "        'Para que serve': {'Criar Deshboards', 'criar planilhas'\n",
        "            \n",
        "            },\n",
        "        }\n",
        "    }\n",
        "\n",
        "\n",
        "print(habilidades)\n",
        "\n",
        "#___________________________________________________________________________________________\n",
        "\n",
        "habilidades = ['Power bi', 'Excel' 'Figma']\n",
        "\n",
        "habilidades = {\n",
        "    'habilidades': {\n",
        "        'habilidades': 'Figma', \n",
        "        'Empresa_fabricante': 'Dylan Field e Evan Wallace',\n",
        "        'Para que serve': {'Criar interface de sites e apps'\n",
        "            \n",
        "            },\n",
        "        }\n",
        "    }\n",
        "\n",
        "\n",
        "print(habilidades)"
      ],
      "metadata": {
        "colab": {
          "base_uri": "https://localhost:8080/"
        },
        "id": "Hch0GgAV3GBE",
        "outputId": "2ba0c736-0fd1-4c67-8513-9bdcc74c726e"
      },
      "execution_count": 21,
      "outputs": [
        {
          "output_type": "stream",
          "name": "stdout",
          "text": [
            "{'habilidades': {'habilidades': 'Power Bi', 'Empresa_fabricante': 'Microsoft', 'Para que serve': {'Criar Deshboards'}}}\n",
            "{'habilidades': {'habilidades': 'Excel', 'Empresa_fabricante': 'Microsoft', 'Para que serve': {'criar planilhas', 'Criar Deshboards'}}}\n",
            "{'habilidades': {'habilidades': 'Figma', 'Empresa_fabricante': 'Dylan Field e Evan Wallace', 'Para que serve': {'Criar interface de sites e apps'}}}\n"
          ]
        }
      ]
    }
  ]
}